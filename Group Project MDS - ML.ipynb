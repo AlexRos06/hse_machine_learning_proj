{
  "nbformat": 4,
  "nbformat_minor": 0,
  "metadata": {
    "colab": {
      "provenance": []
    },
    "kernelspec": {
      "name": "python3",
      "display_name": "Python 3"
    },
    "language_info": {
      "name": "python"
    }
  },
  "cells": [
    {
      "cell_type": "markdown",
      "metadata": {
        "id": "f1gL2DEfNRGu"
      },
      "source": [
        "# Machine Learning, MDS\n",
        "\n",
        "## HSE, 2024-25"
      ]
    },
    {
      "cell_type": "markdown",
      "metadata": {
        "id": "fdTH3pxXFLxw"
      },
      "source": [
        "## Group project. Machine Learning"
      ]
    },
    {
      "cell_type": "markdown",
      "metadata": {
        "id": "kqVyveO4FLxx"
      },
      "source": [
        "## General Information"
      ]
    },
    {
      "cell_type": "markdown",
      "metadata": {
        "id": "2A0wmBWwFLxx"
      },
      "source": [
        "__Date of issue:__ 05.06.2025\n",
        "\n",
        "__Project defense:__ ~ 19.06.2025"
      ]
    },
    {
      "cell_type": "markdown",
      "metadata": {
        "id": "c3WPv6hp7hNJ"
      },
      "source": [
        "## Execution Format"
      ]
    },
    {
      "cell_type": "markdown",
      "metadata": {
        "id": "G119PlyX7hNS"
      },
      "source": [
        "The group project is a creative, initiative-based group assignment, carried out by students in teams of 4 to 6 people. At the same time, it should be remembered that the larger the team, the higher the overall requirements for the team and the project they perform. Teams are allowed to be formed from students of different streams.\n",
        "\n",
        "When evaluating the results of the project carried out by the team, it is mandatory to check and consider the contribution of ***each participant*** to the overall work of the team. Consequently, it is extremely important to responsibly approach the selection of teammates, the distribution of responsibilities within the team, and the prevention of \"dead weight\" in the team.\n",
        "\n",
        "If necessary, the team has the right by majority vote to exclude a person from the team *before the project defense* by informing the instructor, in case that person did not contribute during the project and was, in fact, the \"dead weight.\" Remember this possibility, as the presence of \"dead weight\" can negatively affect the quality and grade of the entire project and, consequently, the entire team!\n",
        "\n",
        "The registration of team compositions is carried out via the link in the table:\n",
        "\n",
        "https://docs.google.com/spreadsheets/d/17jvVs8lAa6oexBPKTS0hA9M6gqXvequuz5zd28KuTGw/edit?usp=sharing\n"
      ]
    },
    {
      "cell_type": "markdown",
      "metadata": {
        "id": "qK8Ari9eFLxz"
      },
      "source": [
        "## Evaluation and Penalties\n",
        "\n"
      ]
    },
    {
      "cell_type": "markdown",
      "source": [
        "The coursework project is evaluated based on the team's oral defense (presentation) of their completed project before a committee. The committee is composed of course instructors, course assistants, and invited industry experts.\n",
        "\n",
        "Within each defense, the committee assigns two types of grades.\n",
        "\n",
        "The first grade is for the overall project. It is given by the committee based on the depth of the team's exploration of the subject area, the complexity of the tools used in the project, and other aspects related to the content of the project's terms of reference. When assigning this grade, the committee refers to the criteria detailed below in the \"Project Evaluation Criteria\" section.\n",
        "\n",
        "The second grade is the individual grade for each team member. This grade is subsequently recorded in the grade book. The individual grade for a team member is determined by the committee based on how well the member understands the completed project, how they respond to questions addressed personally to them by the committee, how their role in the project is evident, and other aspects related to the person's participation in the team's activities. The individual grade cannot exceed the team's overall project grade (the first grade). However, if the participant confidently and correctly answers all questions addressed to them, is well-versed in the material and content of the completed project, and their role in the team's work is unquestionable, then the individual grade becomes equal to the overall project grade (i.e., in an ideal case, the second grade equals the first grade).\n",
        "\n",
        "To avoid subjectivity and/or bias in the evaluation by certain committee members towards specific teams, as well as any other manifestations of unequal conditions, the distribution of teams among the committees is done completely randomly using the Numpy library :) — the random seed is the date on which the distribution is performed, for example, `np.random.seed(5062025)`.\n",
        "\n",
        "To maintain the fairness and impartiality of the random distribution, any transfers of teams between committees (committee changes) are not allowed. Student attendance at the project defense is mandatory; a student's contribution without their presence is not evaluated and automatically equals zero. Additionally, having the camera turned on throughout the entire time in the conference during the project defense is mandatory."
      ],
      "metadata": {
        "id": "QGLPrtP8M51y"
      }
    },
    {
      "cell_type": "markdown",
      "metadata": {
        "id": "zNja-u8vFLx0"
      },
      "source": [
        "## Task description"
      ]
    },
    {
      "cell_type": "markdown",
      "metadata": {
        "id": "JYeFv80TV21w"
      },
      "source": [
        "In the modern business industry, the use of machine learning and artificial intelligence has gained critical importance. Companies striving to remain competitive are actively implementing these technologies for data analysis, process automation, and trend forecasting. This enables businesses to make more informed decisions and respond swiftly to market changes.\n",
        "\n",
        "In this project, you will practice building predictive machine learning models using real data and learn how these models are subsequently applied. You will also explore how to discover hidden patterns and valuable insights that can help companies optimize their business processes in the future.\n"
      ]
    },
    {
      "cell_type": "markdown",
      "source": [
        "### Project Stages"
      ],
      "metadata": {
        "id": "jw2I5j46xsrG"
      }
    },
    {
      "cell_type": "markdown",
      "source": [
        "Below are the suggested stages for project implementation:\n",
        "\n",
        "- Selection of a company and/or platform;\n",
        "- Formulation of a business problem that the company/platform might want to solve based on data using modern machine learning methods;\n",
        "- Justification of the formulated business problem;\n",
        "- Acquisition of necessary data through searching open sources/datasets, parsing/working with APIs;\n",
        "- Formulation of the problem in terms of machine learning to address the business challenge;\n",
        "- Selection and justification of a potential pool of methods and algorithms for solving the machine learning problem;\n",
        "- Preliminary data processing;\n",
        "- Application of machine learning methods to solve the given problem;\n",
        "- Obtaining and aggregating results, final conclusions."
      ],
      "metadata": {
        "id": "kO_bjLfWxvdV"
      }
    },
    {
      "cell_type": "markdown",
      "source": [
        "### Project requirements"
      ],
      "metadata": {
        "id": "Yf_5kM7K6XPn"
      }
    },
    {
      "cell_type": "markdown",
      "metadata": {
        "id": "coqxjUJY4D4B"
      },
      "source": [
        "As a result of completing the group project, your team should prepare a presentation and defend it before the committee.\n",
        "\n",
        "The design of the presentation is entirely up to you, but remember that the result should be relevant for demonstration to a business client — it is most appropriate to perceive the committee evaluating your work in this way. For example, it is not recommended to include lines of code or overuse notebook screenshots in the presentation.\n",
        "\n",
        "From a project execution standpoint, you need to assume the roles of data engineers: to devise the ideology for obtaining and extracting data from the platform; data analysts: to align the business problem with data-driven formulations; and most importantly, data scientists: to implement the tasks using machine learning methods and extract valuable insights from the work done. Finally, of course, you need to present all this work in an understandable format to a potential client.\n",
        "\n",
        "Naturally, the more complex and non-trivial your task is, and the deeper and more meaningful the insights derived from it, the higher the quality of your project will be, and the higher it will be rated!"
      ]
    },
    {
      "cell_type": "markdown",
      "source": [
        "### Useful Tips and Advice"
      ],
      "metadata": {
        "id": "BIMqig8J-cWl"
      }
    },
    {
      "cell_type": "markdown",
      "source": [
        "- Charts and visualizations are great — everyone loves charts;\n",
        "- Ensure that all charts on slides can be read even without your commentary;\n",
        "- Avoid creating slides that are just text;\n",
        "- Build your project with the goal of presenting valuable information for the business;\n",
        "- Every good Data Scientist should be able to work in a team, so the distribution of your efforts in the project is up to you;\n",
        "- You don't have to limit yourself to one company. You have the entire internet to find additional information that can enrich your data and test your hypotheses. Go for it!\n"
      ],
      "metadata": {
        "id": "myYUHrtD-gcj"
      }
    },
    {
      "cell_type": "markdown",
      "source": [
        "## Project Evaluation Criteria"
      ],
      "metadata": {
        "id": "nUgPW81IAl8k"
      }
    },
    {
      "cell_type": "markdown",
      "source": [
        "The grade for the group project as a whole — the first of the two grades — is given on a 10-point scale based on 3 criteria. Additionally, the committee may, at its discretion, add (but not decrease) a certain number of bonus points beyond these criteria.\n",
        "\n",
        "Each of the criteria will be listed and reviewed below."
      ],
      "metadata": {
        "id": "kPjYuWD_BX7C"
      }
    },
    {
      "cell_type": "markdown",
      "source": [
        "### Criterion 1: Task Selection (up to 3 points)\n",
        "\n",
        "This criterion evaluates how justified and meaningful the chosen business problem is; how thoroughly the transition from the business problem to a machine learning problem was made (how well the machine learning task setup aligns with the original problem from the company's perspective); and how accurate, comprehensive, and business-applicable the insights derived from the research are."
      ],
      "metadata": {
        "id": "lGGI5KRrCL5r"
      }
    },
    {
      "cell_type": "markdown",
      "source": [
        "### Criterion 2: Data Extraction and Processing Tools (up to 2 points)\n",
        "\n",
        "This criterion assesses the technical implementation of the data collection process, both manual and automated, the tools used for preprocessing, data preparation, and EDA. It will evaluate the range of different technical tools implemented in the project; the correctness, efficiency, and appropriateness of their application; as well as the complexity and novelty of the algorithms, approaches, and libraries applied to the data."
      ],
      "metadata": {
        "id": "GzH0e3v6DIsM"
      }
    },
    {
      "cell_type": "markdown",
      "source": [
        "### Criterion 3: Machine Learning Tools (up to 5 points)\n",
        "\n",
        "This criterion evaluates the application of machine learning methods in the project. It will consider the range of various technical tools implemented in the project; the correctness, efficiency, and appropriateness of their application; as well as the complexity and novelty of the algorithms, approaches, and libraries applied to the data. Additionally, a comparative analysis of the models used in the solution will be assessed.\n",
        "\n",
        "*To receive **4 points** for this criterion, the project must correctly and justifiably apply tools/approaches/libraries not covered in the relevant seminars.*\n",
        "\n",
        "*To receive **3 points**, you must perform a comparative analysis of the effectiveness of various machine learning models within your project on the same dataset. There must be at least 4 different models, and their nature must differ (for example, decision trees and random forests are algorithms of different natures, whereas CatBoost and LightGBM are not). Their use must be thoroughly described and justified. The comparative analysis should yield clear and significant conclusions about the effectiveness of each algorithm.*\n",
        "\n",
        "*To receive **2 points**, the project must include the use of Transformer objects (such as scalers, dimensionality reduction algorithms, etc.) in addition to machine learning models.*"
      ],
      "metadata": {
        "id": "dObOtg3QE9WD"
      }
    }
  ]
}