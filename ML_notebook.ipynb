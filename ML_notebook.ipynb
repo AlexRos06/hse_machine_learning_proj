{
 "cells": [
  {
   "cell_type": "code",
   "execution_count": null,
   "id": "5de34106",
   "metadata": {},
   "outputs": [],
   "source": []
  },
  {
   "cell_type": "markdown",
   "id": "8c780a21",
   "metadata": {},
   "source": [
    "# Импорт библиотек"
   ]
  },
  {
   "cell_type": "code",
   "execution_count": 10,
   "id": "2b7fafbd",
   "metadata": {},
   "outputs": [],
   "source": [
    "import pandas as pd\n",
    "import numpy as np\n",
    "\n",
    "from selenium import webdriver\n",
    "from selenium.webdriver.firefox.service import Service as FirefoxService\n",
    "from selenium.webdriver.chrome.service import Service as ChromeService\n",
    "# from selenium.webdriver.firefox.options import Options\n",
    "from selenium.webdriver.firefox.options import Options as FirefoxOptions\n",
    "from selenium.webdriver.chrome.options import Options as ChromeOptions\n",
    "from selenium.webdriver import Keys\n",
    "from selenium.webdriver.common.by import By\n",
    "from selenium.webdriver.support.ui import WebDriverWait\n",
    "from selenium.webdriver.support import expected_conditions as EC\n",
    "from webdriver_manager.firefox import GeckoDriverManager\n",
    "from webdriver_manager.chrome import ChromeDriverManager\n",
    "from fake_useragent import UserAgent\n",
    "import requests\n",
    "from bs4 import BeautifulSoup as bs\n",
    "\n",
    "from time import sleep\n",
    "import random\n",
    "\n",
    "\n",
    "pd.set_option('display.max_columns', None)\n"
   ]
  },
  {
   "cell_type": "markdown",
   "id": "ad4a35f7",
   "metadata": {},
   "source": [
    "# Обоснование выбора компании и датасета"
   ]
  },
  {
   "cell_type": "markdown",
   "id": "c2ed290d",
   "metadata": {},
   "source": [
    "[Ссылка на данные](https://www.kaggle.com/datasets/sakshigoyal7/credit-card-customers) \n",
    "\n"
   ]
  },
  {
   "cell_type": "markdown",
   "id": "69623fda",
   "metadata": {},
   "source": [
    "Легенда       \n",
    "Мы команда продуктовых аналитиков направления кредитные карты в компании American Express.     \n",
    "В последние данные прослеживается тренд снижения популярности данного продукта.     \n",
    "\n",
    "В связи с этим необходимо: \n",
    "1. Проанализировать отток клиентов банка (отказы от кредитных карт) \n",
    "2. Составление профилей пользователь кредитных карт и потенциальных отказников\n",
    "3. Построение модели, которая бы предсказывала, кто из клиентов наиболее вероятно откажется от продукта "
   ]
  },
  {
   "cell_type": "code",
   "execution_count": 7,
   "id": "07890743",
   "metadata": {},
   "outputs": [
    {
     "name": "stdout",
     "output_type": "stream",
     "text": [
      "(10127, 21)\n"
     ]
    },
    {
     "data": {
      "text/html": [
       "<div>\n",
       "<style scoped>\n",
       "    .dataframe tbody tr th:only-of-type {\n",
       "        vertical-align: middle;\n",
       "    }\n",
       "\n",
       "    .dataframe tbody tr th {\n",
       "        vertical-align: top;\n",
       "    }\n",
       "\n",
       "    .dataframe thead th {\n",
       "        text-align: right;\n",
       "    }\n",
       "</style>\n",
       "<table border=\"1\" class=\"dataframe\">\n",
       "  <thead>\n",
       "    <tr style=\"text-align: right;\">\n",
       "      <th></th>\n",
       "      <th>CLIENTNUM</th>\n",
       "      <th>Attrition_Flag</th>\n",
       "      <th>Customer_Age</th>\n",
       "      <th>Gender</th>\n",
       "      <th>Dependent_count</th>\n",
       "      <th>Education_Level</th>\n",
       "      <th>Marital_Status</th>\n",
       "      <th>Income_Category</th>\n",
       "      <th>Card_Category</th>\n",
       "      <th>Months_on_book</th>\n",
       "      <th>Total_Relationship_Count</th>\n",
       "      <th>Months_Inactive_12_mon</th>\n",
       "      <th>Contacts_Count_12_mon</th>\n",
       "      <th>Credit_Limit</th>\n",
       "      <th>Total_Revolving_Bal</th>\n",
       "      <th>Avg_Open_To_Buy</th>\n",
       "      <th>Total_Amt_Chng_Q4_Q1</th>\n",
       "      <th>Total_Trans_Amt</th>\n",
       "      <th>Total_Trans_Ct</th>\n",
       "      <th>Total_Ct_Chng_Q4_Q1</th>\n",
       "      <th>Avg_Utilization_Ratio</th>\n",
       "    </tr>\n",
       "  </thead>\n",
       "  <tbody>\n",
       "    <tr>\n",
       "      <th>0</th>\n",
       "      <td>768805383</td>\n",
       "      <td>Existing Customer</td>\n",
       "      <td>45</td>\n",
       "      <td>M</td>\n",
       "      <td>3</td>\n",
       "      <td>High School</td>\n",
       "      <td>Married</td>\n",
       "      <td>$60K - $80K</td>\n",
       "      <td>Blue</td>\n",
       "      <td>39</td>\n",
       "      <td>5</td>\n",
       "      <td>1</td>\n",
       "      <td>3</td>\n",
       "      <td>12691.0</td>\n",
       "      <td>777</td>\n",
       "      <td>11914.0</td>\n",
       "      <td>1.335</td>\n",
       "      <td>1144</td>\n",
       "      <td>42</td>\n",
       "      <td>1.625</td>\n",
       "      <td>0.061</td>\n",
       "    </tr>\n",
       "    <tr>\n",
       "      <th>1</th>\n",
       "      <td>818770008</td>\n",
       "      <td>Existing Customer</td>\n",
       "      <td>49</td>\n",
       "      <td>F</td>\n",
       "      <td>5</td>\n",
       "      <td>Graduate</td>\n",
       "      <td>Single</td>\n",
       "      <td>Less than $40K</td>\n",
       "      <td>Blue</td>\n",
       "      <td>44</td>\n",
       "      <td>6</td>\n",
       "      <td>1</td>\n",
       "      <td>2</td>\n",
       "      <td>8256.0</td>\n",
       "      <td>864</td>\n",
       "      <td>7392.0</td>\n",
       "      <td>1.541</td>\n",
       "      <td>1291</td>\n",
       "      <td>33</td>\n",
       "      <td>3.714</td>\n",
       "      <td>0.105</td>\n",
       "    </tr>\n",
       "    <tr>\n",
       "      <th>2</th>\n",
       "      <td>713982108</td>\n",
       "      <td>Existing Customer</td>\n",
       "      <td>51</td>\n",
       "      <td>M</td>\n",
       "      <td>3</td>\n",
       "      <td>Graduate</td>\n",
       "      <td>Married</td>\n",
       "      <td>$80K - $120K</td>\n",
       "      <td>Blue</td>\n",
       "      <td>36</td>\n",
       "      <td>4</td>\n",
       "      <td>1</td>\n",
       "      <td>0</td>\n",
       "      <td>3418.0</td>\n",
       "      <td>0</td>\n",
       "      <td>3418.0</td>\n",
       "      <td>2.594</td>\n",
       "      <td>1887</td>\n",
       "      <td>20</td>\n",
       "      <td>2.333</td>\n",
       "      <td>0.000</td>\n",
       "    </tr>\n",
       "    <tr>\n",
       "      <th>3</th>\n",
       "      <td>769911858</td>\n",
       "      <td>Existing Customer</td>\n",
       "      <td>40</td>\n",
       "      <td>F</td>\n",
       "      <td>4</td>\n",
       "      <td>High School</td>\n",
       "      <td>Unknown</td>\n",
       "      <td>Less than $40K</td>\n",
       "      <td>Blue</td>\n",
       "      <td>34</td>\n",
       "      <td>3</td>\n",
       "      <td>4</td>\n",
       "      <td>1</td>\n",
       "      <td>3313.0</td>\n",
       "      <td>2517</td>\n",
       "      <td>796.0</td>\n",
       "      <td>1.405</td>\n",
       "      <td>1171</td>\n",
       "      <td>20</td>\n",
       "      <td>2.333</td>\n",
       "      <td>0.760</td>\n",
       "    </tr>\n",
       "    <tr>\n",
       "      <th>4</th>\n",
       "      <td>709106358</td>\n",
       "      <td>Existing Customer</td>\n",
       "      <td>40</td>\n",
       "      <td>M</td>\n",
       "      <td>3</td>\n",
       "      <td>Uneducated</td>\n",
       "      <td>Married</td>\n",
       "      <td>$60K - $80K</td>\n",
       "      <td>Blue</td>\n",
       "      <td>21</td>\n",
       "      <td>5</td>\n",
       "      <td>1</td>\n",
       "      <td>0</td>\n",
       "      <td>4716.0</td>\n",
       "      <td>0</td>\n",
       "      <td>4716.0</td>\n",
       "      <td>2.175</td>\n",
       "      <td>816</td>\n",
       "      <td>28</td>\n",
       "      <td>2.500</td>\n",
       "      <td>0.000</td>\n",
       "    </tr>\n",
       "  </tbody>\n",
       "</table>\n",
       "</div>"
      ],
      "text/plain": [
       "   CLIENTNUM     Attrition_Flag  Customer_Age Gender  Dependent_count  \\\n",
       "0  768805383  Existing Customer            45      M                3   \n",
       "1  818770008  Existing Customer            49      F                5   \n",
       "2  713982108  Existing Customer            51      M                3   \n",
       "3  769911858  Existing Customer            40      F                4   \n",
       "4  709106358  Existing Customer            40      M                3   \n",
       "\n",
       "  Education_Level Marital_Status Income_Category Card_Category  \\\n",
       "0     High School        Married     $60K - $80K          Blue   \n",
       "1        Graduate         Single  Less than $40K          Blue   \n",
       "2        Graduate        Married    $80K - $120K          Blue   \n",
       "3     High School        Unknown  Less than $40K          Blue   \n",
       "4      Uneducated        Married     $60K - $80K          Blue   \n",
       "\n",
       "   Months_on_book  Total_Relationship_Count  Months_Inactive_12_mon  \\\n",
       "0              39                         5                       1   \n",
       "1              44                         6                       1   \n",
       "2              36                         4                       1   \n",
       "3              34                         3                       4   \n",
       "4              21                         5                       1   \n",
       "\n",
       "   Contacts_Count_12_mon  Credit_Limit  Total_Revolving_Bal  Avg_Open_To_Buy  \\\n",
       "0                      3       12691.0                  777          11914.0   \n",
       "1                      2        8256.0                  864           7392.0   \n",
       "2                      0        3418.0                    0           3418.0   \n",
       "3                      1        3313.0                 2517            796.0   \n",
       "4                      0        4716.0                    0           4716.0   \n",
       "\n",
       "   Total_Amt_Chng_Q4_Q1  Total_Trans_Amt  Total_Trans_Ct  Total_Ct_Chng_Q4_Q1  \\\n",
       "0                 1.335             1144              42                1.625   \n",
       "1                 1.541             1291              33                3.714   \n",
       "2                 2.594             1887              20                2.333   \n",
       "3                 1.405             1171              20                2.333   \n",
       "4                 2.175              816              28                2.500   \n",
       "\n",
       "   Avg_Utilization_Ratio  \n",
       "0                  0.061  \n",
       "1                  0.105  \n",
       "2                  0.000  \n",
       "3                  0.760  \n",
       "4                  0.000  "
      ]
     },
     "execution_count": 7,
     "metadata": {},
     "output_type": "execute_result"
    }
   ],
   "source": [
    "df = pd.read_csv('BankChurners.csv')\n",
    "\n",
    "\n",
    "df = df.drop(['Naive_Bayes_Classifier_Attrition_Flag_Card_Category_Contacts_Count_12_mon_Dependent_count_Education_Level_Months_Inactive_12_mon_1',\n",
    "       'Naive_Bayes_Classifier_Attrition_Flag_Card_Category_Contacts_Count_12_mon_Dependent_count_Education_Level_Months_Inactive_12_mon_2'], axis=1)\n",
    "print(df.shape)\n",
    "df.head()"
   ]
  },
  {
   "cell_type": "code",
   "execution_count": 3,
   "id": "03070abe",
   "metadata": {},
   "outputs": [
    {
     "data": {
      "text/plain": [
       "Index(['CLIENTNUM', 'Attrition_Flag', 'Customer_Age', 'Gender',\n",
       "       'Dependent_count', 'Education_Level', 'Marital_Status',\n",
       "       'Income_Category', 'Card_Category', 'Months_on_book',\n",
       "       'Total_Relationship_Count', 'Months_Inactive_12_mon',\n",
       "       'Contacts_Count_12_mon', 'Credit_Limit', 'Total_Revolving_Bal',\n",
       "       'Avg_Open_To_Buy', 'Total_Amt_Chng_Q4_Q1', 'Total_Trans_Amt',\n",
       "       'Total_Trans_Ct', 'Total_Ct_Chng_Q4_Q1', 'Avg_Utilization_Ratio',\n",
       "       'Naive_Bayes_Classifier_Attrition_Flag_Card_Category_Contacts_Count_12_mon_Dependent_count_Education_Level_Months_Inactive_12_mon_1',\n",
       "       'Naive_Bayes_Classifier_Attrition_Flag_Card_Category_Contacts_Count_12_mon_Dependent_count_Education_Level_Months_Inactive_12_mon_2'],\n",
       "      dtype='object')"
      ]
     },
     "execution_count": 3,
     "metadata": {},
     "output_type": "execute_result"
    }
   ],
   "source": [
    "df.columns"
   ]
  },
  {
   "cell_type": "code",
   "execution_count": 46,
   "id": "cc9a3118",
   "metadata": {},
   "outputs": [
    {
     "data": {
      "text/plain": [
       "array(['$60K - $80K', 'Less than $40K', '$80K - $120K', '$40K - $60K',\n",
       "       '$120K +', 'Unknown'], dtype=object)"
      ]
     },
     "execution_count": 46,
     "metadata": {},
     "output_type": "execute_result"
    }
   ],
   "source": [
    "df.Income_Category.unique()"
   ]
  },
  {
   "cell_type": "code",
   "execution_count": 49,
   "id": "cb19a4ba",
   "metadata": {},
   "outputs": [
    {
     "data": {
      "text/plain": [
       "Card_Category\n",
       "Blue        9436\n",
       "Gold         116\n",
       "Platinum      20\n",
       "Silver       555\n",
       "Name: CLIENTNUM, dtype: int64"
      ]
     },
     "execution_count": 49,
     "metadata": {},
     "output_type": "execute_result"
    }
   ],
   "source": [
    "df.groupby(['Card_Category'])['CLIENTNUM'].agg('count')"
   ]
  },
  {
   "cell_type": "code",
   "execution_count": 47,
   "id": "8d322121",
   "metadata": {},
   "outputs": [
    {
     "data": {
      "text/plain": [
       "Card_Category\n",
       "Blue        3403\n",
       "Gold          24\n",
       "Platinum       4\n",
       "Silver       130\n",
       "Name: CLIENTNUM, dtype: int64"
      ]
     },
     "execution_count": 47,
     "metadata": {},
     "output_type": "execute_result"
    }
   ],
   "source": [
    "df[df['Income_Category']=='Less than $40K'].groupby(['Card_Category'])['CLIENTNUM'].agg('count')"
   ]
  },
  {
   "cell_type": "code",
   "execution_count": 48,
   "id": "4098d8be",
   "metadata": {},
   "outputs": [
    {
     "data": {
      "text/plain": [
       "Card_Category\n",
       "Blue        645\n",
       "Gold         18\n",
       "Platinum      4\n",
       "Silver       60\n",
       "Name: CLIENTNUM, dtype: int64"
      ]
     },
     "execution_count": 48,
     "metadata": {},
     "output_type": "execute_result"
    }
   ],
   "source": [
    "df[df['Income_Category']=='$120K +'].groupby(['Card_Category'])['CLIENTNUM'].agg('count')"
   ]
  },
  {
   "cell_type": "markdown",
   "id": "a6d6f8c7",
   "metadata": {},
   "source": [
    "# Дополнительные фичи"
   ]
  },
  {
   "cell_type": "markdown",
   "id": "c1a3df0d",
   "metadata": {},
   "source": []
  },
  {
   "cell_type": "markdown",
   "id": "f62efa8d",
   "metadata": {},
   "source": [
    "# Дополнение датафрейма\n",
    "1. Цена обслуживания разных типов карт (парсинг)   \n",
    "Источник: [American Express](https://www.americanexpress.com/us/credit-cards/?category=all&eep=25330&intlink=US-Axp-Shop-Consumer-VAC-Prospect-all-StickyFilter)\n",
    "2. Категории населения по возрасту + статистика в разрезе США (файл)  \n",
    "Источник: [Neilsberg](https://www.neilsberg.com/insights/united-states-population-by-age/)"
   ]
  },
  {
   "cell_type": "code",
   "execution_count": null,
   "id": "b28eec5e",
   "metadata": {},
   "outputs": [],
   "source": [
    "def site_open_func(site: str, browser: str = 'firefox'):\n",
    "    ua = UserAgent()\n",
    "\n",
    "    if browser == 'firefox':\n",
    "        service = FirefoxService(GeckoDriverManager().install())\n",
    "        user_agent = ua.firefox\n",
    "        options = FirefoxOptions()\n",
    "        options.set_preference(\"general.useragent.override\", user_agent)\n",
    "\n",
    "        driver = webdriver.Firefox(service=service, options=options)\n",
    "    else:\n",
    "        raise ValueError(\"Unsupported browser. Choose 'firefox' or 'chrome'.\")\n",
    "\n",
    "    url = site\n",
    "    driver.get(url)\n",
    "    sleep(3)\n",
    "\n",
    "    return driver, url"
   ]
  },
  {
   "cell_type": "code",
   "execution_count": null,
   "id": "cb26ac79",
   "metadata": {},
   "outputs": [],
   "source": [
    "# Флаг для парсинга цен по картам\n",
    "parse_card_info_flg = False"
   ]
  },
  {
   "cell_type": "code",
   "execution_count": null,
   "id": "3af8408c",
   "metadata": {},
   "outputs": [],
   "source": [
    "if parse_card_info_flg:\n",
    "    site = 'https://www.americanexpress.com/us/credit-cards/?category=all&eep=25330&intlink=US-Axp-Shop-Consumer-VAC-Prospect-all-StickyFilter'\n",
    "    driver = site_open_func(site, 'firefox')\n",
    "    page_blue_card = bs(driver.page_source)\n",
    "    df_card_info = pd.DataFrame(columns=['Card', 'Annual fee'])\n",
    "\n",
    "    for card in page_blue_card.find_all(True):\n",
    "        try:\n",
    "            if card.find('strong', class_='dls-deep-blue', string='Annual Fee'):\n",
    "                card_name = card.find_previous('h2').get_text(strip=True)\n",
    "                fee_span = card.find('span')\n",
    "                html_string = str(fee_span)\n",
    "\n",
    "                import re\n",
    "                dollar_amounts = re.findall(r'\\$\\d+', html_string)\n",
    "                \n",
    "                if dollar_amounts:\n",
    "                    annual_fee = dollar_amounts[0].replace('$', '')\n",
    "                    # print(card_name, annual_fee)\n",
    "\n",
    "                    card_exists = (df_card_info['Card'] == card_name).any()\n",
    "    \n",
    "                    if annual_fee is not None and not card_exists:\n",
    "                        df_card_info.loc[len(df_card_info)] = {\n",
    "                            'Card': card_name,\n",
    "                            'Annual fee': annual_fee\n",
    "                        }\n",
    "                    \n",
    "        except Exception as e:\n",
    "            pass"
   ]
  },
  {
   "cell_type": "code",
   "execution_count": null,
   "id": "b8f38b6c",
   "metadata": {},
   "outputs": [],
   "source": [
    "if parse_card_info_flg:\n",
    "\n",
    "    df_card_info.loc[len(df_card_info), :] = ['Blue Cash Everyday Card', 0]\n",
    "    df_card_info['Annual fee'] = df_card_info['Annual fee'].astype(int)\n",
    "    df_card_info['Card'] = df_card_info['Card'].str.replace('®', ' ').str.strip()\n",
    "    df_card_info.loc[2, 'Annual fee'] = 95 #точечная корректировка (комплексное условие)\n",
    "\n",
    "    dict_card_names = {\n",
    "                    'Blue':'Blue Cash Everyday Card', \n",
    "                    'Silver':'American Express Green Card', \n",
    "                    'Gold':'American Express Gold Card', \n",
    "                    'Platinum':'The Platinum Card', \n",
    "                    }\n",
    "    dict_card_names_reverse = {v: k for k, v in dict_card_names.items()}\n",
    "\n",
    "\n",
    "    df_card_info.loc[:, 'Card_Category'] = df_card_info['Card'].map(dict_card_names_reverse)\n",
    "    df_card_info.Card_Category = df_card_info.Card_Category.fillna('Other')\n",
    "    df_card_info.to_csv('Парсинг_цена_карт.csv', index=False)"
   ]
  },
  {
   "cell_type": "code",
   "execution_count": null,
   "id": "08ec53a8",
   "metadata": {},
   "outputs": [
    {
     "name": "stdout",
     "output_type": "stream",
     "text": [
      "(18, 3)\n"
     ]
    },
    {
     "data": {
      "text/html": [
       "<div>\n",
       "<style scoped>\n",
       "    .dataframe tbody tr th:only-of-type {\n",
       "        vertical-align: middle;\n",
       "    }\n",
       "\n",
       "    .dataframe tbody tr th {\n",
       "        vertical-align: top;\n",
       "    }\n",
       "\n",
       "    .dataframe thead th {\n",
       "        text-align: right;\n",
       "    }\n",
       "</style>\n",
       "<table border=\"1\" class=\"dataframe\">\n",
       "  <thead>\n",
       "    <tr style=\"text-align: right;\">\n",
       "      <th></th>\n",
       "      <th>Age Group</th>\n",
       "      <th>Population</th>\n",
       "      <th>% of Total Population</th>\n",
       "    </tr>\n",
       "  </thead>\n",
       "  <tbody>\n",
       "    <tr>\n",
       "      <th>0</th>\n",
       "      <td>Under 5 years</td>\n",
       "      <td>18939899.0</td>\n",
       "      <td>0.0570</td>\n",
       "    </tr>\n",
       "    <tr>\n",
       "      <th>1</th>\n",
       "      <td>5 to 9 years</td>\n",
       "      <td>20102351.0</td>\n",
       "      <td>0.0605</td>\n",
       "    </tr>\n",
       "  </tbody>\n",
       "</table>\n",
       "</div>"
      ],
      "text/plain": [
       "       Age Group  Population  % of Total Population\n",
       "0  Under 5 years  18939899.0                 0.0570\n",
       "1   5 to 9 years  20102351.0                 0.0605"
      ]
     },
     "execution_count": 193,
     "metadata": {},
     "output_type": "execute_result"
    }
   ],
   "source": [
    "df_age_group = pd.read_csv('population_age_category.csv')\n",
    "df_age_group.Population = df_age_group.Population.str.replace(',', '').astype('float')\n",
    "df_age_group['% of Total Population'] = df_age_group['% of Total Population'].str.replace('%', '').astype('float') / 100\n",
    "\n",
    "print(df_age_group.shape)\n",
    "df_age_group.head(2)"
   ]
  },
  {
   "cell_type": "code",
   "execution_count": 215,
   "id": "b6cf2a41",
   "metadata": {},
   "outputs": [],
   "source": [
    "def extract_age_bounds(age_str):\n",
    "    numbers = re.findall(r'\\d+', age_str)\n",
    "    \n",
    "    if \"Under\" in age_str:\n",
    "        return 0, int(numbers[0]) - 1\n",
    "    elif \"and over\" in age_str:\n",
    "        return int(numbers[0]), None\n",
    "    elif len(numbers) == 2:\n",
    "        return int(numbers[0]), int(numbers[1])\n",
    "    else:\n",
    "        return None, None\n",
    "\n",
    "df_age_group[['age_from', 'age_to']] = df_age_group['Age Group'].apply(\n",
    "    lambda x: pd.Series(extract_age_bounds(x))\n",
    ")"
   ]
  },
  {
   "cell_type": "code",
   "execution_count": 216,
   "id": "1acc1103",
   "metadata": {},
   "outputs": [
    {
     "data": {
      "text/html": [
       "<div>\n",
       "<style scoped>\n",
       "    .dataframe tbody tr th:only-of-type {\n",
       "        vertical-align: middle;\n",
       "    }\n",
       "\n",
       "    .dataframe tbody tr th {\n",
       "        vertical-align: top;\n",
       "    }\n",
       "\n",
       "    .dataframe thead th {\n",
       "        text-align: right;\n",
       "    }\n",
       "</style>\n",
       "<table border=\"1\" class=\"dataframe\">\n",
       "  <thead>\n",
       "    <tr style=\"text-align: right;\">\n",
       "      <th></th>\n",
       "      <th>CLIENTNUM</th>\n",
       "      <th>Attrition_Flag</th>\n",
       "      <th>Customer_Age</th>\n",
       "      <th>Gender</th>\n",
       "      <th>Dependent_count</th>\n",
       "      <th>Education_Level</th>\n",
       "      <th>Marital_Status</th>\n",
       "      <th>Income_Category</th>\n",
       "      <th>Card_Category</th>\n",
       "      <th>Months_on_book</th>\n",
       "      <th>Total_Relationship_Count</th>\n",
       "      <th>Months_Inactive_12_mon</th>\n",
       "      <th>Contacts_Count_12_mon</th>\n",
       "      <th>Credit_Limit</th>\n",
       "      <th>Total_Revolving_Bal</th>\n",
       "      <th>Avg_Open_To_Buy</th>\n",
       "      <th>Total_Amt_Chng_Q4_Q1</th>\n",
       "      <th>Total_Trans_Amt</th>\n",
       "      <th>Total_Trans_Ct</th>\n",
       "      <th>Total_Ct_Chng_Q4_Q1</th>\n",
       "      <th>Avg_Utilization_Ratio</th>\n",
       "      <th>Age Group</th>\n",
       "      <th>Population</th>\n",
       "      <th>% of Total Population</th>\n",
       "    </tr>\n",
       "  </thead>\n",
       "  <tbody>\n",
       "    <tr>\n",
       "      <th>0</th>\n",
       "      <td>768805383</td>\n",
       "      <td>Existing Customer</td>\n",
       "      <td>45</td>\n",
       "      <td>M</td>\n",
       "      <td>3</td>\n",
       "      <td>High School</td>\n",
       "      <td>Married</td>\n",
       "      <td>$60K - $80K</td>\n",
       "      <td>Blue</td>\n",
       "      <td>39</td>\n",
       "      <td>5</td>\n",
       "      <td>1</td>\n",
       "      <td>3</td>\n",
       "      <td>12691.0</td>\n",
       "      <td>777</td>\n",
       "      <td>11914.0</td>\n",
       "      <td>1.335</td>\n",
       "      <td>1144</td>\n",
       "      <td>42</td>\n",
       "      <td>1.625</td>\n",
       "      <td>0.061</td>\n",
       "      <td>45 to 49 years</td>\n",
       "      <td>20051874.0</td>\n",
       "      <td>0.0603</td>\n",
       "    </tr>\n",
       "    <tr>\n",
       "      <th>1</th>\n",
       "      <td>818770008</td>\n",
       "      <td>Existing Customer</td>\n",
       "      <td>49</td>\n",
       "      <td>F</td>\n",
       "      <td>5</td>\n",
       "      <td>Graduate</td>\n",
       "      <td>Single</td>\n",
       "      <td>Less than $40K</td>\n",
       "      <td>Blue</td>\n",
       "      <td>44</td>\n",
       "      <td>6</td>\n",
       "      <td>1</td>\n",
       "      <td>2</td>\n",
       "      <td>8256.0</td>\n",
       "      <td>864</td>\n",
       "      <td>7392.0</td>\n",
       "      <td>1.541</td>\n",
       "      <td>1291</td>\n",
       "      <td>33</td>\n",
       "      <td>3.714</td>\n",
       "      <td>0.105</td>\n",
       "      <td>45 to 49 years</td>\n",
       "      <td>20051874.0</td>\n",
       "      <td>0.0603</td>\n",
       "    </tr>\n",
       "  </tbody>\n",
       "</table>\n",
       "</div>"
      ],
      "text/plain": [
       "   CLIENTNUM     Attrition_Flag  Customer_Age Gender  Dependent_count  \\\n",
       "0  768805383  Existing Customer            45      M                3   \n",
       "1  818770008  Existing Customer            49      F                5   \n",
       "\n",
       "  Education_Level Marital_Status Income_Category Card_Category  \\\n",
       "0     High School        Married     $60K - $80K          Blue   \n",
       "1        Graduate         Single  Less than $40K          Blue   \n",
       "\n",
       "   Months_on_book  Total_Relationship_Count  Months_Inactive_12_mon  \\\n",
       "0              39                         5                       1   \n",
       "1              44                         6                       1   \n",
       "\n",
       "   Contacts_Count_12_mon  Credit_Limit  Total_Revolving_Bal  Avg_Open_To_Buy  \\\n",
       "0                      3       12691.0                  777          11914.0   \n",
       "1                      2        8256.0                  864           7392.0   \n",
       "\n",
       "   Total_Amt_Chng_Q4_Q1  Total_Trans_Amt  Total_Trans_Ct  Total_Ct_Chng_Q4_Q1  \\\n",
       "0                 1.335             1144              42                1.625   \n",
       "1                 1.541             1291              33                3.714   \n",
       "\n",
       "   Avg_Utilization_Ratio       Age Group  Population  % of Total Population  \n",
       "0                  0.061  45 to 49 years  20051874.0                 0.0603  \n",
       "1                  0.105  45 to 49 years  20051874.0                 0.0603  "
      ]
     },
     "execution_count": 216,
     "metadata": {},
     "output_type": "execute_result"
    }
   ],
   "source": [
    "# Присоединяем новые фичи\n",
    "df_2 = df.copy().reset_index(drop=True)\n",
    "df_age_group = df_age_group.reset_index(drop=True)\n",
    "\n",
    "\n",
    "def find_age_group(age):\n",
    "    mask = (\n",
    "        (df_age_group['age_from'] <= age) & (df_age_group['age_to'] >= age)\n",
    "    )\n",
    "    matching_rows = df_age_group[mask]\n",
    "    \n",
    "    if not matching_rows.empty:\n",
    "        return matching_rows.iloc[0][['Age Group', 'Population', '% of Total Population']]\n",
    "    else:\n",
    "        # Возвращаем NaN или дефолтные значения, если группа не найдена\n",
    "        return pd.Series([None, None, None], index=['Age Group', 'Population', '% of Total Population'])\n",
    "\n",
    "# Применяем и создаем новые колонки\n",
    "age_group_data = df_2['Customer_Age'].apply(find_age_group)\n",
    "df_2 = pd.concat([df_2, age_group_data.apply(pd.Series)], axis=1)\n",
    "\n",
    "df_2.head(2)"
   ]
  },
  {
   "cell_type": "code",
   "execution_count": 221,
   "id": "de0d03b0",
   "metadata": {},
   "outputs": [],
   "source": [
    "df_card_info = pd.read_csv('Парсинг_цена_карт.csv')\n",
    "df_2 = df_2.merge(df_card_info, how='left', on='Card_Category')"
   ]
  },
  {
   "cell_type": "code",
   "execution_count": 224,
   "id": "b4a188d6",
   "metadata": {},
   "outputs": [],
   "source": [
    "df_2.to_parquet('BankChurners_add_features.parquet')"
   ]
  },
  {
   "cell_type": "code",
   "execution_count": null,
   "id": "0123c0af",
   "metadata": {},
   "outputs": [],
   "source": []
  },
  {
   "cell_type": "code",
   "execution_count": null,
   "id": "23dda284",
   "metadata": {},
   "outputs": [],
   "source": []
  },
  {
   "cell_type": "markdown",
   "id": "b31e0145",
   "metadata": {},
   "source": []
  }
 ],
 "metadata": {
  "kernelspec": {
   "display_name": "base",
   "language": "python",
   "name": "python3"
  },
  "language_info": {
   "codemirror_mode": {
    "name": "ipython",
    "version": 3
   },
   "file_extension": ".py",
   "mimetype": "text/x-python",
   "name": "python",
   "nbconvert_exporter": "python",
   "pygments_lexer": "ipython3",
   "version": "3.12.3"
  }
 },
 "nbformat": 4,
 "nbformat_minor": 5
}
